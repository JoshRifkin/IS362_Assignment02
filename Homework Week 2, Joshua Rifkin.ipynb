{
 "cells": [
  {
   "cell_type": "markdown",
   "metadata": {},
   "source": [
    "<h1>The Zip Function in Python</h1>"
   ]
  },
  {
   "cell_type": "markdown",
   "metadata": {},
   "source": [
    "<h3>\n",
    "    For this assignment I decided to go over the zip function in Python since I have very little experience actually using it\n",
    "</h3>"
   ]
  },
  {
   "cell_type": "markdown",
   "metadata": {},
   "source": [
    "<h5>The zip function is used to combine iterators quickly and efficiently. It does this by joining objects at the same index.</h5>"
   ]
  },
  {
   "cell_type": "markdown",
   "metadata": {},
   "source": [
    "<p>Sample 1</p>"
   ]
  },
  {
   "cell_type": "code",
   "execution_count": 4,
   "metadata": {},
   "outputs": [
    {
     "name": "stdout",
     "output_type": "stream",
     "text": [
      "[('John', 'Doe'), ('Jane', 'Dane')]\n"
     ]
    }
   ],
   "source": [
    "first = (\"John\", \"Jane\")\n",
    "last = (\"Doe\", \"Dane\")\n",
    "full = list(zip(first, last))\n",
    "print(full)"
   ]
  },
  {
   "cell_type": "markdown",
   "metadata": {},
   "source": [
    "<h5>You might've noticed in the fourth line of the sample above that we had to format the code to say \"list(zip(x, y))\". The reason for this is the zip function returns a \"zip object\" which is an iterable of tuples. See below.</h5>"
   ]
  },
  {
   "cell_type": "code",
   "execution_count": 6,
   "metadata": {},
   "outputs": [
    {
     "name": "stdout",
     "output_type": "stream",
     "text": [
      "<zip object at 0x0000020C80FB4E00>\n"
     ]
    }
   ],
   "source": [
    "first = (\"John\", \"Jane\")\n",
    "last = (\"Doe\", \"Dane\")\n",
    "full = zip(first, last)\n",
    "print(full)"
   ]
  },
  {
   "cell_type": "markdown",
   "metadata": {},
   "source": [
    "<h5>See the difference?</h5>"
   ]
  },
  {
   "cell_type": "markdown",
   "metadata": {},
   "source": [
    "<h5>Another thing to note about the zip function is that if the iterables passed into the zip function have different lengths, the one with the shortest length will determine the length of the zip iterable.</h5>"
   ]
  },
  {
   "cell_type": "code",
   "execution_count": 8,
   "metadata": {},
   "outputs": [
    {
     "name": "stdout",
     "output_type": "stream",
     "text": [
      "[('A', 'a'), ('B', 'b'), ('C', 'c')]\n"
     ]
    }
   ],
   "source": [
    "upper = (\"A\", \"B\", \"C\", \"D\")\n",
    "lower = (\"a\", \"b\", \"c\")\n",
    "both = list(zip(upper, lower))\n",
    "print(both)"
   ]
  },
  {
   "cell_type": "markdown",
   "metadata": {},
   "source": [
    "<h5>There is also a neat trick you can use to \"unzip\" a zip iterable</h5>"
   ]
  },
  {
   "cell_type": "code",
   "execution_count": 11,
   "metadata": {},
   "outputs": [
    {
     "name": "stdout",
     "output_type": "stream",
     "text": [
      "('a', 'b', 'c')\n",
      "(1, 2, 3)\n"
     ]
    }
   ],
   "source": [
    "pairs = [('a', 1), ('b', 2), ('c', 3)]\n",
    "letters, numbers = zip(*pairs)\n",
    "print(letters)\n",
    "print(numbers)"
   ]
  },
  {
   "cell_type": "markdown",
   "metadata": {},
   "source": [
    "<h5>The last thing I will demonstrate here is how you can use the zip function to help create dictionaries out of matching tuples.</h5>"
   ]
  },
  {
   "cell_type": "code",
   "execution_count": 12,
   "metadata": {},
   "outputs": [
    {
     "name": "stdout",
     "output_type": "stream",
     "text": [
      "{'Josh': 'abc123', 'Jim': 'CS4Life', 'Jane': 'AAbbCC'}\n"
     ]
    }
   ],
   "source": [
    "users = (\"Josh\", \"Jim\", \"Jane\")\n",
    "pswrd = (\"abc123\", \"CS4Life\", \"AAbbCC\")\n",
    "logins = {}\n",
    "for user, pswrd in zip(users, pswrd):\n",
    "    logins[user] = pswrd\n",
    "\n",
    "print(logins)"
   ]
  }
 ],
 "metadata": {
  "kernelspec": {
   "display_name": "Python 3",
   "language": "python",
   "name": "python3"
  },
  "language_info": {
   "codemirror_mode": {
    "name": "ipython",
    "version": 3
   },
   "file_extension": ".py",
   "mimetype": "text/x-python",
   "name": "python",
   "nbconvert_exporter": "python",
   "pygments_lexer": "ipython3",
   "version": "3.8.3"
  }
 },
 "nbformat": 4,
 "nbformat_minor": 4
}
